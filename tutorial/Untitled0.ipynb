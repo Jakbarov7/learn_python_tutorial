{
  "nbformat": 4,
  "nbformat_minor": 0,
  "metadata": {
    "colab": {
      "provenance": [],
      "authorship_tag": "ABX9TyOcVNSoKX/ArDUbdSaHKXNs",
      "include_colab_link": true
    },
    "kernelspec": {
      "name": "python3",
      "display_name": "Python 3"
    },
    "language_info": {
      "name": "python"
    }
  },
  "cells": [
    {
      "cell_type": "markdown",
      "metadata": {
        "id": "view-in-github",
        "colab_type": "text"
      },
      "source": [
        "<a href=\"https://colab.research.google.com/github/Jakbarov7/learn_python_tutorial/blob/main/tutorial/Untitled0.ipynb\" target=\"_parent\"><img src=\"https://colab.research.google.com/assets/colab-badge.svg\" alt=\"Open In Colab\"/></a>"
      ]
    },
    {
      "cell_type": "code",
      "execution_count": 1,
      "metadata": {
        "colab": {
          "base_uri": "https://localhost:8080/"
        },
        "id": "oBCGaO9eCVY_",
        "outputId": "43f68b87-687d-4ea9-a000-9e622fa55243"
      },
      "outputs": [
        {
          "output_type": "stream",
          "name": "stdout",
          "text": [
            "{'Malibu': 30000, 'Mercadez': 55000, 'Tracker': 23000}\n"
          ]
        }
      ],
      "source": [
        "dct = {'Malibu':30000, 'Mercadez':55000, 'Tracker':23000}\n",
        "print(dct)"
      ]
    },
    {
      "cell_type": "code",
      "source": [],
      "metadata": {
        "id": "fqzhesMKChts"
      },
      "execution_count": null,
      "outputs": []
    }
  ]
}